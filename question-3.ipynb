{
 "cells": [
  {
   "cell_type": "markdown",
   "metadata": {},
   "source": [
    "Question 3 Coding: By:Angela Gosewehr\n",
    "What is the average pricing for a 3 bedroom/2 bathroom home by state?\n",
    "\n"
   ]
  },
  {
   "cell_type": "code",
   "execution_count": null,
   "metadata": {},
   "outputs": [],
   "source": [
    "#import\n",
    "import pandas as pd\n",
    "from pathlib import Path\n",
    "import matplotlib.pyplot as plt\n",
    "import numpy as np\n",
    "import requests\n",
    "import json\n",
    "import scipy.stats as st\n",
    "from scipy.stats import linregress\n",
    "from pprint import pprint"
   ]
  },
  {
   "cell_type": "code",
   "execution_count": null,
   "metadata": {},
   "outputs": [],
   "source": [
    "#Access the file and read it.\n",
    "clean_states = Path('clean_states.csv') \n",
    "clean_states_df = pd.read_csv(clean_states)\n",
    "\n",
    "clean_states_df.head()"
   ]
  },
  {
   "cell_type": "code",
   "execution_count": null,
   "metadata": {},
   "outputs": [],
   "source": [
    "# make dataframe that only includes price, bed room , bathroom, and state\n",
    "\n",
    "limited_df = clean_states_df[['price', 'bed', 'bath','state']].copy().reset_index(drop=True)\n",
    "limited_df"
   ]
  },
  {
   "cell_type": "code",
   "execution_count": null,
   "metadata": {},
   "outputs": [],
   "source": [
    "#filter that dataframe into only values that both equal 3 bedroom and 2 bathroom.\n",
    "#Sam Espe helped with this equation\n",
    "bed_and_bath_df=limited_df[(limited_df['bed']== 3.0) & (limited_df['bath']==2.0)]\n",
    "print(bed_and_bath_df)\n",
    "\n",
    "#Find the average of prices within the new dataframe\n",
    "average_bedbath= bed_and_bath_df[\"price\"].mean().round(2)\n",
    "#print(average_bedbath)\n",
    "\n",
    "\n"
   ]
  },
  {
   "cell_type": "code",
   "execution_count": null,
   "metadata": {},
   "outputs": [],
   "source": [
    "# create a dataframe that only shows MASS\n",
    "mass_df=bed_and_bath_df.loc[bed_and_bath_df['state'] == 'Massachusetts']\n",
    "mass_df\n",
    "\n",
    "#Find average price of Mass houses\n",
    "average_mass= mass_df[\"price\"].mean()\n",
    "average_mass=average_mass.round(2)\n"
   ]
  },
  {
   "cell_type": "code",
   "execution_count": null,
   "metadata": {},
   "outputs": [],
   "source": [
    "# create a dataframs that only shows CONN and price column\n",
    "conn_df=bed_and_bath_df.loc[bed_and_bath_df['state'] == 'Connecticut']\n",
    "conn_df\n",
    "\n",
    "#Find average price of Conn houses\n",
    "average_conn= conn_df[\"price\"].mean()\n",
    "average_conn=average_conn.round(2)\n"
   ]
  },
  {
   "cell_type": "code",
   "execution_count": null,
   "metadata": {},
   "outputs": [],
   "source": [
    "#create a dataframe that only shows NEW JERSEY\n",
    "nj_df=bed_and_bath_df.loc[bed_and_bath_df['state'] == 'New Jersey']\n",
    "nj_df\n",
    "#Find average price of New Jersey houses\n",
    "average_nj= nj_df[\"price\"].mean()\n",
    "average_nj=average_nj.round(2)\n"
   ]
  },
  {
   "cell_type": "code",
   "execution_count": null,
   "metadata": {},
   "outputs": [],
   "source": [
    "#create a dataframe that only shows NEW YORK \n",
    "ny_df=bed_and_bath_df.loc[bed_and_bath_df['state'] == 'New York']\n",
    "ny_df\n",
    "#Find average price of New York houses\n",
    "average_ny= ny_df[\"price\"].mean()\n",
    "average_ny=average_ny.round(2)\n",
    "#print(average_ny)\n",
    "\n"
   ]
  },
  {
   "cell_type": "code",
   "execution_count": null,
   "metadata": {},
   "outputs": [],
   "source": [
    "#Do the average of the price column for MASS, CONN, NEW JERSEY, and NEW YORK\n",
    "print (\"The average New York house price is \"+ str (average_ny) + \".\" )\n",
    "print (\"The average New Jersey house price is \"+ str (average_nj) + \".\" )\n",
    "print (\"The average Massachusetts house price is \"+ str (average_mass) + \".\" )\n",
    "print (\"The average Connectitcut house price is \"+ str (average_conn) + \".\" )\n",
    "print (\"The average house price for all the states together is \"+ str (average_bedbath) + \".\" )\n"
   ]
  },
  {
   "cell_type": "code",
   "execution_count": null,
   "metadata": {},
   "outputs": [],
   "source": [
    "#Make a bar graph with the average for each state\n",
    "bar_plot_df = pd.DataFrame({'States':['Massachusetts', 'Connecticut', 'New Jersey','New York'],\n",
    " 'Prices':[average_mass, average_conn, average_nj,average_ny,]})\n",
    "ax = bar_plot_df.plot.bar(x='States', y='Prices', title= 'Average Price of 3 bed/2 bath house in each State', rot=0)"
   ]
  },
  {
   "cell_type": "code",
   "execution_count": null,
   "metadata": {},
   "outputs": [],
   "source": [
    "price_state_ny_df = ny_df[['price','state']].copy()\n",
    "#price_state_ny_df\n"
   ]
  },
  {
   "cell_type": "code",
   "execution_count": null,
   "metadata": {},
   "outputs": [],
   "source": [
    "price_state_df = bed_and_bath_df[['price','state']].copy()\n",
    "#price_state_df "
   ]
  },
  {
   "cell_type": "code",
   "execution_count": null,
   "metadata": {},
   "outputs": [],
   "source": [
    "#Creates a dataframe that puts states as column headers with prices below\n",
    "\n",
    "next_df= price_state_df.set_index([price_state_df.groupby('state')['state'].cumcount(), 'state'])['price'].unstack()\n",
    "\n",
    "next_df\n"
   ]
  },
  {
   "cell_type": "code",
   "execution_count": null,
   "metadata": {},
   "outputs": [],
   "source": [
    "#Plot all the histograms on one single table\n",
    "next_df.plot(kind='hist',\n",
    "        alpha=0.7,\n",
    "        bins=10,\n",
    "        title='Prices of 3 bed/2 bath homes in each state',\n",
    "        rot=60,\n",
    "        grid=True,\n",
    "        figsize=(12,8),\n",
    "        fontsize=15, \n",
    "        color=['#A0E8AF', '#FFCF56'])\n",
    "plt.xlabel(\"Price (mulitiply scale by 1 million)\")\n",
    "plt.ylabel(\"Frequency\")"
   ]
  },
  {
   "cell_type": "code",
   "execution_count": null,
   "metadata": {},
   "outputs": [],
   "source": [
    "#Create New York histogram\n",
    "ny_df.hist(column='price')\n",
    "plt.title(\"Frequency of 3 bed/2 bath House Prices in New York\")\n",
    "plt.xlabel(\"Price (mulitiply scale by 1 million)\")\n",
    "plt.ylabel(\"Frequency\")\n"
   ]
  },
  {
   "cell_type": "code",
   "execution_count": null,
   "metadata": {},
   "outputs": [],
   "source": [
    "price_state_nj_df = nj_df[['price','state']].copy()\n",
    "#price_state_nj_df\n"
   ]
  },
  {
   "cell_type": "code",
   "execution_count": null,
   "metadata": {},
   "outputs": [],
   "source": [
    "#Create New Jersey histogram\n",
    "price_state_nj_df.hist(column='price')\n",
    "plt.title(\"Frequency of 3 bed/2 bath House Prices in New Jersey\")\n",
    "plt.xlabel(\"Price (mulitiply scale by 1 million)\")\n",
    "plt.ylabel(\"Frequency\")\n"
   ]
  },
  {
   "cell_type": "code",
   "execution_count": null,
   "metadata": {},
   "outputs": [],
   "source": [
    "price_state_conn_df = conn_df[['price','state']].copy()\n",
    "#price_state_conn_df"
   ]
  },
  {
   "cell_type": "code",
   "execution_count": null,
   "metadata": {},
   "outputs": [],
   "source": [
    "#Create Conn histogram\n",
    "price_state_conn_df.hist(column='price')\n",
    "plt.title(\"Frequency of 3 bed/2 bath House Prices in Connecticut\")\n",
    "plt.xlabel(\"Price\")\n",
    "plt.ylabel(\"Frequency\")"
   ]
  },
  {
   "cell_type": "code",
   "execution_count": null,
   "metadata": {},
   "outputs": [],
   "source": [
    "price_state_mass_df = mass_df[['price','state']].copy()\n",
    "\n",
    "#price_state_mass_df"
   ]
  },
  {
   "cell_type": "code",
   "execution_count": null,
   "metadata": {},
   "outputs": [],
   "source": [
    "#Create Mass histogram\n",
    "mass_df.hist(column='price')\n",
    "plt.title(\"Frequency of 3 bed/2 bath House Prices in Massachusetts\")\n",
    "plt.xlabel(\"Price (mulitiply scale by 1 million)\")\n",
    "plt.ylabel(\"Frequency\")\n"
   ]
  }
 ],
 "metadata": {
  "kernelspec": {
   "display_name": "dev",
   "language": "python",
   "name": "python3"
  },
  "language_info": {
   "codemirror_mode": {
    "name": "ipython",
    "version": 3
   },
   "file_extension": ".py",
   "mimetype": "text/x-python",
   "name": "python",
   "nbconvert_exporter": "python",
   "pygments_lexer": "ipython3",
   "version": "3.10.12"
  },
  "orig_nbformat": 4
 },
 "nbformat": 4,
 "nbformat_minor": 2
}

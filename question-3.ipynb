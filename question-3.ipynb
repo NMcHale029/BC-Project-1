{
 "cells": [
  {
   "cell_type": "code",
   "execution_count": 1,
   "metadata": {},
   "outputs": [],
   "source": [
    "# What is the average pricing for a 2 bedroom / 2 bathrooms home by State /\n",
    "  \n"
   ]
  },
  {
   "cell_type": "code",
   "execution_count": 2,
   "metadata": {},
   "outputs": [],
   "source": [
    "#import stuff\n",
    "import pandas as pd\n",
    "from pathlib import Path\n",
    "import matplotlib.pyplot as plt\n",
    "import numpy as np\n",
    "import requests\n",
    "import json\n",
    "import scipy.stats as st\n",
    "from scipy.stats import linregress\n",
    "from pprint import pprint"
   ]
  },
  {
   "cell_type": "code",
   "execution_count": 3,
   "metadata": {},
   "outputs": [
    {
     "data": {
      "text/html": [
       "<div>\n",
       "<style scoped>\n",
       "    .dataframe tbody tr th:only-of-type {\n",
       "        vertical-align: middle;\n",
       "    }\n",
       "\n",
       "    .dataframe tbody tr th {\n",
       "        vertical-align: top;\n",
       "    }\n",
       "\n",
       "    .dataframe thead th {\n",
       "        text-align: right;\n",
       "    }\n",
       "</style>\n",
       "<table border=\"1\" class=\"dataframe\">\n",
       "  <thead>\n",
       "    <tr style=\"text-align: right;\">\n",
       "      <th></th>\n",
       "      <th>Unnamed: 0</th>\n",
       "      <th>price</th>\n",
       "      <th>bed</th>\n",
       "      <th>bath</th>\n",
       "      <th>acre_lot</th>\n",
       "      <th>house_size</th>\n",
       "      <th>state</th>\n",
       "      <th>city</th>\n",
       "    </tr>\n",
       "  </thead>\n",
       "  <tbody>\n",
       "    <tr>\n",
       "      <th>0</th>\n",
       "      <td>27821</td>\n",
       "      <td>579900.0</td>\n",
       "      <td>4.0</td>\n",
       "      <td>3.0</td>\n",
       "      <td>2.34</td>\n",
       "      <td>3320.0</td>\n",
       "      <td>Connecticut</td>\n",
       "      <td>Coventry</td>\n",
       "    </tr>\n",
       "    <tr>\n",
       "      <th>1</th>\n",
       "      <td>27826</td>\n",
       "      <td>215000.0</td>\n",
       "      <td>2.0</td>\n",
       "      <td>1.0</td>\n",
       "      <td>0.91</td>\n",
       "      <td>960.0</td>\n",
       "      <td>Connecticut</td>\n",
       "      <td>East Windsor</td>\n",
       "    </tr>\n",
       "    <tr>\n",
       "      <th>2</th>\n",
       "      <td>27828</td>\n",
       "      <td>144900.0</td>\n",
       "      <td>2.0</td>\n",
       "      <td>1.0</td>\n",
       "      <td>0.36</td>\n",
       "      <td>860.0</td>\n",
       "      <td>Connecticut</td>\n",
       "      <td>Vernon</td>\n",
       "    </tr>\n",
       "    <tr>\n",
       "      <th>3</th>\n",
       "      <td>27829</td>\n",
       "      <td>174900.0</td>\n",
       "      <td>3.0</td>\n",
       "      <td>2.0</td>\n",
       "      <td>0.19</td>\n",
       "      <td>1280.0</td>\n",
       "      <td>Connecticut</td>\n",
       "      <td>Manchester</td>\n",
       "    </tr>\n",
       "    <tr>\n",
       "      <th>4</th>\n",
       "      <td>27830</td>\n",
       "      <td>289900.0</td>\n",
       "      <td>4.0</td>\n",
       "      <td>2.0</td>\n",
       "      <td>0.38</td>\n",
       "      <td>1617.0</td>\n",
       "      <td>Connecticut</td>\n",
       "      <td>East Windsor</td>\n",
       "    </tr>\n",
       "  </tbody>\n",
       "</table>\n",
       "</div>"
      ],
      "text/plain": [
       "   Unnamed: 0     price  bed  bath  acre_lot  house_size        state  \\\n",
       "0       27821  579900.0  4.0   3.0      2.34      3320.0  Connecticut   \n",
       "1       27826  215000.0  2.0   1.0      0.91       960.0  Connecticut   \n",
       "2       27828  144900.0  2.0   1.0      0.36       860.0  Connecticut   \n",
       "3       27829  174900.0  3.0   2.0      0.19      1280.0  Connecticut   \n",
       "4       27830  289900.0  4.0   2.0      0.38      1617.0  Connecticut   \n",
       "\n",
       "           city  \n",
       "0      Coventry  \n",
       "1  East Windsor  \n",
       "2        Vernon  \n",
       "3    Manchester  \n",
       "4  East Windsor  "
      ]
     },
     "execution_count": 3,
     "metadata": {},
     "output_type": "execute_result"
    }
   ],
   "source": [
    "#Access the file and read it.\n",
    "clean_states = Path('clean_states.csv') \n",
    "clean_states_df = pd.read_csv(clean_states)\n",
    "\n",
    "clean_states_df.head()"
   ]
  },
  {
   "cell_type": "code",
   "execution_count": 4,
   "metadata": {},
   "outputs": [
    {
     "data": {
      "text/html": [
       "<div>\n",
       "<style scoped>\n",
       "    .dataframe tbody tr th:only-of-type {\n",
       "        vertical-align: middle;\n",
       "    }\n",
       "\n",
       "    .dataframe tbody tr th {\n",
       "        vertical-align: top;\n",
       "    }\n",
       "\n",
       "    .dataframe thead th {\n",
       "        text-align: right;\n",
       "    }\n",
       "</style>\n",
       "<table border=\"1\" class=\"dataframe\">\n",
       "  <thead>\n",
       "    <tr style=\"text-align: right;\">\n",
       "      <th></th>\n",
       "      <th>price</th>\n",
       "      <th>bed</th>\n",
       "      <th>bath</th>\n",
       "      <th>state</th>\n",
       "    </tr>\n",
       "  </thead>\n",
       "  <tbody>\n",
       "    <tr>\n",
       "      <th>0</th>\n",
       "      <td>579900.0</td>\n",
       "      <td>4.0</td>\n",
       "      <td>3.0</td>\n",
       "      <td>Connecticut</td>\n",
       "    </tr>\n",
       "    <tr>\n",
       "      <th>1</th>\n",
       "      <td>215000.0</td>\n",
       "      <td>2.0</td>\n",
       "      <td>1.0</td>\n",
       "      <td>Connecticut</td>\n",
       "    </tr>\n",
       "    <tr>\n",
       "      <th>2</th>\n",
       "      <td>144900.0</td>\n",
       "      <td>2.0</td>\n",
       "      <td>1.0</td>\n",
       "      <td>Connecticut</td>\n",
       "    </tr>\n",
       "    <tr>\n",
       "      <th>3</th>\n",
       "      <td>174900.0</td>\n",
       "      <td>3.0</td>\n",
       "      <td>2.0</td>\n",
       "      <td>Connecticut</td>\n",
       "    </tr>\n",
       "    <tr>\n",
       "      <th>4</th>\n",
       "      <td>289900.0</td>\n",
       "      <td>4.0</td>\n",
       "      <td>2.0</td>\n",
       "      <td>Connecticut</td>\n",
       "    </tr>\n",
       "  </tbody>\n",
       "</table>\n",
       "</div>"
      ],
      "text/plain": [
       "      price  bed  bath        state\n",
       "0  579900.0  4.0   3.0  Connecticut\n",
       "1  215000.0  2.0   1.0  Connecticut\n",
       "2  144900.0  2.0   1.0  Connecticut\n",
       "3  174900.0  3.0   2.0  Connecticut\n",
       "4  289900.0  4.0   2.0  Connecticut"
      ]
     },
     "execution_count": 4,
     "metadata": {},
     "output_type": "execute_result"
    }
   ],
   "source": [
    "# make dataframe that only includes price, bed room , bathroom, and state\n",
    "\n",
    "limited_df = clean_states_df[['price', 'bed', 'bath','state']].copy().reset_index(drop=True)\n",
    "limited_df.head()"
   ]
  },
  {
   "cell_type": "code",
   "execution_count": 5,
   "metadata": {},
   "outputs": [
    {
     "data": {
      "text/plain": [
       "price    float64\n",
       "bed      float64\n",
       "bath     float64\n",
       "state     object\n",
       "dtype: object"
      ]
     },
     "execution_count": 5,
     "metadata": {},
     "output_type": "execute_result"
    }
   ],
   "source": [
    "limited_df.dtypes\n"
   ]
  },
  {
   "cell_type": "code",
   "execution_count": 6,
   "metadata": {},
   "outputs": [],
   "source": [
    "#filter that dataframe into only values that both equal 2 bedroom and 2 bathroom.\n",
    "#Sam Espe helped with this equation\n",
    "bed_and_bath_df=limited_df[(limited_df['bed']== 2.0) & (limited_df['bath']==2.0)]\n",
    "#print(bed_and_bath_df)\n",
    "\n",
    "\n",
    "average_bedbath= bed_and_bath_df[\"price\"].mean().round(2)\n",
    "#print(average_bedbath)\n",
    "\n",
    "\n"
   ]
  },
  {
   "cell_type": "code",
   "execution_count": 7,
   "metadata": {},
   "outputs": [
    {
     "name": "stdout",
     "output_type": "stream",
     "text": [
      "           price  bed  bath          state\n",
      "63482   397000.0  2.0   2.0  Massachusetts\n",
      "63488   389900.0  2.0   2.0  Massachusetts\n",
      "63501   275000.0  2.0   2.0  Massachusetts\n",
      "63513   189900.0  2.0   2.0  Massachusetts\n",
      "63568   595000.0  2.0   2.0  Massachusetts\n",
      "...          ...  ...   ...            ...\n",
      "134422  209900.0  2.0   2.0  Massachusetts\n",
      "134431  709000.0  2.0   2.0  Massachusetts\n",
      "134447  369000.0  2.0   2.0  Massachusetts\n",
      "134455  139000.0  2.0   2.0  Massachusetts\n",
      "134458  709000.0  2.0   2.0  Massachusetts\n",
      "\n",
      "[5192 rows x 4 columns]\n"
     ]
    }
   ],
   "source": [
    "# create a dataframe that only shows MASS\n",
    "mass_df=bed_and_bath_df.loc[bed_and_bath_df['state'] == 'Massachusetts']\n",
    "mass_df\n",
    "\n",
    "\n",
    "average_mass= mass_df[\"price\"].mean()\n",
    "average_mass=average_mass.round(2)\n",
    "#print(average_mass)\n",
    "print(mass_df)"
   ]
  },
  {
   "cell_type": "code",
   "execution_count": 8,
   "metadata": {},
   "outputs": [
    {
     "name": "stdout",
     "output_type": "stream",
     "text": [
      "          price  bed  bath        state\n",
      "23     329000.0  2.0   2.0  Connecticut\n",
      "147    247900.0  2.0   2.0  Connecticut\n",
      "181    199900.0  2.0   2.0  Connecticut\n",
      "247    264800.0  2.0   2.0  Connecticut\n",
      "259    237500.0  2.0   2.0  Connecticut\n",
      "...         ...  ...   ...          ...\n",
      "49714  465000.0  2.0   2.0  Connecticut\n",
      "49717  419000.0  2.0   2.0  Connecticut\n",
      "49719  499000.0  2.0   2.0  Connecticut\n",
      "49743  759000.0  2.0   2.0  Connecticut\n",
      "49746  360000.0  2.0   2.0  Connecticut\n",
      "\n",
      "[2012 rows x 4 columns]\n"
     ]
    }
   ],
   "source": [
    "# create a dataframs that only shows CONN and price column\n",
    "conn_df=bed_and_bath_df.loc[bed_and_bath_df['state'] == 'Connecticut']\n",
    "conn_df\n",
    "\n",
    "conn_df\n",
    "average_conn= conn_df[\"price\"].mean()\n",
    "average_conn=average_conn.round(2)\n",
    "#print(average_conn)\n",
    "print(conn_df)"
   ]
  },
  {
   "cell_type": "code",
   "execution_count": 9,
   "metadata": {},
   "outputs": [],
   "source": [
    "#create a dataframe that only shows NEW JERSEY\n",
    "nj_df=bed_and_bath_df.loc[bed_and_bath_df['state'] == 'New Jersey']\n",
    "nj_df\n",
    "\n",
    "average_nj= nj_df[\"price\"].mean()\n",
    "average_nj=average_nj.round(2)\n",
    "#print(average_nj)\n",
    "#print(nj_df)"
   ]
  },
  {
   "cell_type": "code",
   "execution_count": 10,
   "metadata": {},
   "outputs": [],
   "source": [
    "#create a dataframe that only shows NEW YORK \n",
    "ny_df=bed_and_bath_df.loc[bed_and_bath_df['state'] == 'New York']\n",
    "\n",
    "average_ny= ny_df[\"price\"].mean()\n",
    "average_ny=average_ny.round(2)\n",
    "#print(average_ny)\n",
    "#print(ny_df)\n"
   ]
  },
  {
   "cell_type": "code",
   "execution_count": 11,
   "metadata": {},
   "outputs": [
    {
     "name": "stdout",
     "output_type": "stream",
     "text": [
      "The average New York house price is 744144.74.\n",
      "The average New Jersey house price is 312192.49.\n",
      "The average Massachusetts house price is 656750.34.\n",
      "The average Connectitcut house price is 277389.77.\n",
      "The average house price for all the states together is 470297.73.\n"
     ]
    }
   ],
   "source": [
    "#Do the average of the price column for MASS, CONN, NEW JERSEY, and NEW YORK\n",
    "print (\"The average New York house price is \"+ str (average_ny) + \".\" )\n",
    "print (\"The average New Jersey house price is \"+ str (average_nj) + \".\" )\n",
    "print (\"The average Massachusetts house price is \"+ str (average_mass) + \".\" )\n",
    "print (\"The average Connectitcut house price is \"+ str (average_conn) + \".\" )\n",
    "print (\"The average house price for all the states together is \"+ str (average_bedbath) + \".\" )\n"
   ]
  },
  {
   "cell_type": "code",
   "execution_count": 12,
   "metadata": {},
   "outputs": [
    {
     "data": {
      "image/png": "[encoded data removed]",
      "text/plain": [
       "<Figure size 640x480 with 1 Axes>"
      ]
     },
     "metadata": {},
     "output_type": "display_data"
    }
   ],
   "source": [
    "#Make a bar graph with the average for each state\n",
    "bar_plot_df = pd.DataFrame({'States':['Massachusetts', 'Connecticut', 'New Jersey','New York'], 'Prices':[average_mass, average_conn, average_nj,average_ny,]})\n",
    "ax = bar_plot_df.plot.bar(x='States', y='Prices', rot=0)"
   ]
  },
  {
   "cell_type": "code",
   "execution_count": 13,
   "metadata": {},
   "outputs": [],
   "source": [
    "price_state_ny_df = ny_df[['price','state']].copy()\n",
    "#price_state_ny_df\n"
   ]
  },
  {
   "cell_type": "code",
   "execution_count": 14,
   "metadata": {},
   "outputs": [],
   "source": [
    "price_state_df = bed_and_bath_df[['price','state']].copy()\n",
    "#price_state_df "
   ]
  },
  {
   "cell_type": "code",
   "execution_count": 15,
   "metadata": {},
   "outputs": [
    {
     "data": {
      "text/html": [
       "<div>\n",
       "<style scoped>\n",
       "    .dataframe tbody tr th:only-of-type {\n",
       "        vertical-align: middle;\n",
       "    }\n",
       "\n",
       "    .dataframe tbody tr th {\n",
       "        vertical-align: top;\n",
       "    }\n",
       "\n",
       "    .dataframe thead th {\n",
       "        text-align: right;\n",
       "    }\n",
       "</style>\n",
       "<table border=\"1\" class=\"dataframe\">\n",
       "  <thead>\n",
       "    <tr style=\"text-align: right;\">\n",
       "      <th>state</th>\n",
       "      <th>Connecticut</th>\n",
       "      <th>Massachusetts</th>\n",
       "      <th>New Jersey</th>\n",
       "      <th>New York</th>\n",
       "    </tr>\n",
       "  </thead>\n",
       "  <tbody>\n",
       "    <tr>\n",
       "      <th>0</th>\n",
       "      <td>329000.0</td>\n",
       "      <td>397000.0</td>\n",
       "      <td>339900.0</td>\n",
       "      <td>129900.0</td>\n",
       "    </tr>\n",
       "    <tr>\n",
       "      <th>1</th>\n",
       "      <td>247900.0</td>\n",
       "      <td>389900.0</td>\n",
       "      <td>499000.0</td>\n",
       "      <td>150000.0</td>\n",
       "    </tr>\n",
       "    <tr>\n",
       "      <th>2</th>\n",
       "      <td>199900.0</td>\n",
       "      <td>275000.0</td>\n",
       "      <td>389900.0</td>\n",
       "      <td>160000.0</td>\n",
       "    </tr>\n",
       "    <tr>\n",
       "      <th>3</th>\n",
       "      <td>264800.0</td>\n",
       "      <td>189900.0</td>\n",
       "      <td>459000.0</td>\n",
       "      <td>179000.0</td>\n",
       "    </tr>\n",
       "    <tr>\n",
       "      <th>4</th>\n",
       "      <td>237500.0</td>\n",
       "      <td>595000.0</td>\n",
       "      <td>315000.0</td>\n",
       "      <td>160000.0</td>\n",
       "    </tr>\n",
       "    <tr>\n",
       "      <th>...</th>\n",
       "      <td>...</td>\n",
       "      <td>...</td>\n",
       "      <td>...</td>\n",
       "      <td>...</td>\n",
       "    </tr>\n",
       "    <tr>\n",
       "      <th>5570</th>\n",
       "      <td>NaN</td>\n",
       "      <td>NaN</td>\n",
       "      <td>279900.0</td>\n",
       "      <td>NaN</td>\n",
       "    </tr>\n",
       "    <tr>\n",
       "      <th>5571</th>\n",
       "      <td>NaN</td>\n",
       "      <td>NaN</td>\n",
       "      <td>260000.0</td>\n",
       "      <td>NaN</td>\n",
       "    </tr>\n",
       "    <tr>\n",
       "      <th>5572</th>\n",
       "      <td>NaN</td>\n",
       "      <td>NaN</td>\n",
       "      <td>295000.0</td>\n",
       "      <td>NaN</td>\n",
       "    </tr>\n",
       "    <tr>\n",
       "      <th>5573</th>\n",
       "      <td>NaN</td>\n",
       "      <td>NaN</td>\n",
       "      <td>350000.0</td>\n",
       "      <td>NaN</td>\n",
       "    </tr>\n",
       "    <tr>\n",
       "      <th>5574</th>\n",
       "      <td>NaN</td>\n",
       "      <td>NaN</td>\n",
       "      <td>241000.0</td>\n",
       "      <td>NaN</td>\n",
       "    </tr>\n",
       "  </tbody>\n",
       "</table>\n",
       "<p>5575 rows × 4 columns</p>\n",
       "</div>"
      ],
      "text/plain": [
       "state  Connecticut  Massachusetts  New Jersey  New York\n",
       "0         329000.0       397000.0    339900.0  129900.0\n",
       "1         247900.0       389900.0    499000.0  150000.0\n",
       "2         199900.0       275000.0    389900.0  160000.0\n",
       "3         264800.0       189900.0    459000.0  179000.0\n",
       "4         237500.0       595000.0    315000.0  160000.0\n",
       "...            ...            ...         ...       ...\n",
       "5570           NaN            NaN    279900.0       NaN\n",
       "5571           NaN            NaN    260000.0       NaN\n",
       "5572           NaN            NaN    295000.0       NaN\n",
       "5573           NaN            NaN    350000.0       NaN\n",
       "5574           NaN            NaN    241000.0       NaN\n",
       "\n",
       "[5575 rows x 4 columns]"
      ]
     },
     "execution_count": 15,
     "metadata": {},
     "output_type": "execute_result"
    }
   ],
   "source": [
    "next_df= price_state_df.set_index([price_state_df.groupby('state')['state'].cumcount(), 'state'])['price'].unstack()\n",
    "\n",
    "next_df\n"
   ]
  },
  {
   "cell_type": "code",
   "execution_count": 16,
   "metadata": {},
   "outputs": [
    {
     "data": {
      "text/plain": [
       "Text(0, 0.5, 'Frequency')"
      ]
     },
     "execution_count": 16,
     "metadata": {},
     "output_type": "execute_result"
    },
    {
     "data": {
      "image/png": "[encoded data removed]",
      "text/plain": [
       "<Figure size 640x480 with 1 Axes>"
      ]
     },
     "metadata": {},
     "output_type": "display_data"
    }
   ],
   "source": [
    "ny_df.hist(column='price')\n",
    "plt.title(\"Frequency of House Prices in New York\")\n",
    "plt.xlabel(\"Price (mulitiply scale by 1 million)\")\n",
    "plt.ylabel(\"Frequency\")\n"
   ]
  },
  {
   "cell_type": "code",
   "execution_count": 17,
   "metadata": {},
   "outputs": [],
   "source": [
    "price_state_nj_df = nj_df[['price','state']].copy()\n",
    "#price_state_nj_df\n"
   ]
  },
  {
   "cell_type": "code",
   "execution_count": 18,
   "metadata": {},
   "outputs": [
    {
     "data": {
      "text/plain": [
       "Text(0, 0.5, 'Frequency')"
      ]
     },
     "execution_count": 18,
     "metadata": {},
     "output_type": "execute_result"
    },
    {
     "data": {
      "image/png": "[encoded data removed]",
      "text/plain": [
       "<Figure size 640x480 with 1 Axes>"
      ]
     },
     "metadata": {},
     "output_type": "display_data"
    }
   ],
   "source": [
    "price_state_nj_df.hist(column='price')\n",
    "\n",
    "plt.title(\"Frequency of House Prices in New Jersey\")\n",
    "plt.xlabel(\"Price (mulitiply scale by 1 million)\")\n",
    "plt.ylabel(\"Frequency\")\n"
   ]
  },
  {
   "cell_type": "code",
   "execution_count": 19,
   "metadata": {},
   "outputs": [],
   "source": [
    "price_state_conn_df = conn_df[['price','state']].copy()\n",
    "#price_state_conn_df"
   ]
  },
  {
   "cell_type": "code",
   "execution_count": 20,
   "metadata": {},
   "outputs": [
    {
     "data": {
      "text/plain": [
       "array([[<Axes: title={'center': 'price'}>]], dtype=object)"
      ]
     },
     "execution_count": 20,
     "metadata": {},
     "output_type": "execute_result"
    },
    {
     "data": {
      "image/png": "[encoded data removed]",
      "text/plain": [
       "<Figure size 640x480 with 1 Axes>"
      ]
     },
     "metadata": {},
     "output_type": "display_data"
    }
   ],
   "source": [
    "price_state_conn_df.hist(column='price')"
   ]
  },
  {
   "cell_type": "code",
   "execution_count": 21,
   "metadata": {},
   "outputs": [],
   "source": [
    "price_state_mass_df = mass_df[['price','state']].copy()\n",
    "\n",
    "#price_state_mass_df"
   ]
  },
  {
   "cell_type": "code",
   "execution_count": 22,
   "metadata": {},
   "outputs": [
    {
     "data": {
      "text/plain": [
       "Text(0, 0.5, 'Frequency')"
      ]
     },
     "execution_count": 22,
     "metadata": {},
     "output_type": "execute_result"
    },
    {
     "data": {
      "image/png": "[encoded data removed]",
      "text/plain": [
       "<Figure size 640x480 with 1 Axes>"
      ]
     },
     "metadata": {},
     "output_type": "display_data"
    }
   ],
   "source": [
    "\n",
    "mass_df.hist(column='price')\n",
    "plt.title(\"Frequency of House Prices in Massachusetts\")\n",
    "plt.xlabel(\"Price (mulitiply scale by 1 million)\")\n",
    "plt.ylabel(\"Frequency\")\n"
   ]
  },
  {
   "cell_type": "code",
   "execution_count": 23,
   "metadata": {},
   "outputs": [
    {
     "data": {
      "text/html": [
       "<div>\n",
       "<style scoped>\n",
       "    .dataframe tbody tr th:only-of-type {\n",
       "        vertical-align: middle;\n",
       "    }\n",
       "\n",
       "    .dataframe tbody tr th {\n",
       "        vertical-align: top;\n",
       "    }\n",
       "\n",
       "    .dataframe thead th {\n",
       "        text-align: right;\n",
       "    }\n",
       "</style>\n",
       "<table border=\"1\" class=\"dataframe\">\n",
       "  <thead>\n",
       "    <tr style=\"text-align: right;\">\n",
       "      <th>state</th>\n",
       "      <th>Connecticut</th>\n",
       "      <th>Massachusetts</th>\n",
       "      <th>New Jersey</th>\n",
       "      <th>New York</th>\n",
       "    </tr>\n",
       "  </thead>\n",
       "  <tbody>\n",
       "    <tr>\n",
       "      <th>0</th>\n",
       "      <td>329000.0</td>\n",
       "      <td>397000.0</td>\n",
       "      <td>339900.0</td>\n",
       "      <td>129900.0</td>\n",
       "    </tr>\n",
       "    <tr>\n",
       "      <th>1</th>\n",
       "      <td>247900.0</td>\n",
       "      <td>389900.0</td>\n",
       "      <td>499000.0</td>\n",
       "      <td>150000.0</td>\n",
       "    </tr>\n",
       "    <tr>\n",
       "      <th>2</th>\n",
       "      <td>199900.0</td>\n",
       "      <td>275000.0</td>\n",
       "      <td>389900.0</td>\n",
       "      <td>160000.0</td>\n",
       "    </tr>\n",
       "    <tr>\n",
       "      <th>3</th>\n",
       "      <td>264800.0</td>\n",
       "      <td>189900.0</td>\n",
       "      <td>459000.0</td>\n",
       "      <td>179000.0</td>\n",
       "    </tr>\n",
       "    <tr>\n",
       "      <th>4</th>\n",
       "      <td>237500.0</td>\n",
       "      <td>595000.0</td>\n",
       "      <td>315000.0</td>\n",
       "      <td>160000.0</td>\n",
       "    </tr>\n",
       "    <tr>\n",
       "      <th>...</th>\n",
       "      <td>...</td>\n",
       "      <td>...</td>\n",
       "      <td>...</td>\n",
       "      <td>...</td>\n",
       "    </tr>\n",
       "    <tr>\n",
       "      <th>5570</th>\n",
       "      <td>NaN</td>\n",
       "      <td>NaN</td>\n",
       "      <td>279900.0</td>\n",
       "      <td>NaN</td>\n",
       "    </tr>\n",
       "    <tr>\n",
       "      <th>5571</th>\n",
       "      <td>NaN</td>\n",
       "      <td>NaN</td>\n",
       "      <td>260000.0</td>\n",
       "      <td>NaN</td>\n",
       "    </tr>\n",
       "    <tr>\n",
       "      <th>5572</th>\n",
       "      <td>NaN</td>\n",
       "      <td>NaN</td>\n",
       "      <td>295000.0</td>\n",
       "      <td>NaN</td>\n",
       "    </tr>\n",
       "    <tr>\n",
       "      <th>5573</th>\n",
       "      <td>NaN</td>\n",
       "      <td>NaN</td>\n",
       "      <td>350000.0</td>\n",
       "      <td>NaN</td>\n",
       "    </tr>\n",
       "    <tr>\n",
       "      <th>5574</th>\n",
       "      <td>NaN</td>\n",
       "      <td>NaN</td>\n",
       "      <td>241000.0</td>\n",
       "      <td>NaN</td>\n",
       "    </tr>\n",
       "  </tbody>\n",
       "</table>\n",
       "<p>5575 rows × 4 columns</p>\n",
       "</div>"
      ],
      "text/plain": [
       "state  Connecticut  Massachusetts  New Jersey  New York\n",
       "0         329000.0       397000.0    339900.0  129900.0\n",
       "1         247900.0       389900.0    499000.0  150000.0\n",
       "2         199900.0       275000.0    389900.0  160000.0\n",
       "3         264800.0       189900.0    459000.0  179000.0\n",
       "4         237500.0       595000.0    315000.0  160000.0\n",
       "...            ...            ...         ...       ...\n",
       "5570           NaN            NaN    279900.0       NaN\n",
       "5571           NaN            NaN    260000.0       NaN\n",
       "5572           NaN            NaN    295000.0       NaN\n",
       "5573           NaN            NaN    350000.0       NaN\n",
       "5574           NaN            NaN    241000.0       NaN\n",
       "\n",
       "[5575 rows x 4 columns]"
      ]
     },
     "execution_count": 23,
     "metadata": {},
     "output_type": "execute_result"
    }
   ],
   "source": [
    "\n",
    "next_df= price_state_df.set_index([price_state_df.groupby('state')['state'].cumcount(), 'state'])['price'].unstack()\n",
    "\n",
    "next_df\n"
   ]
  },
  {
   "cell_type": "code",
   "execution_count": null,
   "metadata": {},
   "outputs": [],
   "source": []
  },
  {
   "cell_type": "code",
   "execution_count": null,
   "metadata": {},
   "outputs": [],
   "source": [
    "\n",
    "\n",
    "\n",
    "\n"
   ]
  },
  {
   "cell_type": "code",
   "execution_count": null,
   "metadata": {},
   "outputs": [],
   "source": []
  },
  {
   "cell_type": "code",
   "execution_count": null,
   "metadata": {},
   "outputs": [],
   "source": [
    "\n",
    "\n"
   ]
  },
  {
   "cell_type": "code",
   "execution_count": null,
   "metadata": {},
   "outputs": [],
   "source": []
  },
  {
   "cell_type": "code",
   "execution_count": null,
   "metadata": {},
   "outputs": [],
   "source": []
  },
  {
   "cell_type": "code",
   "execution_count": null,
   "metadata": {},
   "outputs": [],
   "source": []
  }
 ],
 "metadata": {
  "kernelspec": {
   "display_name": "dev",
   "language": "python",
   "name": "python3"
  },
  "language_info": {
   "codemirror_mode": {
    "name": "ipython",
    "version": 3
   },
   "file_extension": ".py",
   "mimetype": "text/x-python",
   "name": "python",
   "nbconvert_exporter": "python",
   "pygments_lexer": "ipython3",
   "version": "3.10.12"
  },
  "orig_nbformat": 4
 },
 "nbformat": 4,
 "nbformat_minor": 2
}

{
 "cells": [
  {
   "cell_type": "code",
   "execution_count": 2,
   "metadata": {},
   "outputs": [],
   "source": [
    "import pandas as pd\n",
    "from pathlib import Path\n",
    "import matplotlib.pyplot as plt\n",
    "import numpy as np\n",
    "import requests\n",
    "import json\n",
    "import scipy.stats as st\n",
    "from scipy.stats import linregress\n",
    "from pprint import pprint"
   ]
  },
  {
   "cell_type": "code",
   "execution_count": 3,
   "metadata": {},
   "outputs": [
    {
     "data": {
      "text/html": [
       "<div>\n",
       "<style scoped>\n",
       "    .dataframe tbody tr th:only-of-type {\n",
       "        vertical-align: middle;\n",
       "    }\n",
       "\n",
       "    .dataframe tbody tr th {\n",
       "        vertical-align: top;\n",
       "    }\n",
       "\n",
       "    .dataframe thead th {\n",
       "        text-align: right;\n",
       "    }\n",
       "</style>\n",
       "<table border=\"1\" class=\"dataframe\">\n",
       "  <thead>\n",
       "    <tr style=\"text-align: right;\">\n",
       "      <th></th>\n",
       "      <th>status</th>\n",
       "      <th>price</th>\n",
       "      <th>bed</th>\n",
       "      <th>bath</th>\n",
       "      <th>acre_lot</th>\n",
       "      <th>full_address</th>\n",
       "      <th>street</th>\n",
       "      <th>city</th>\n",
       "      <th>state</th>\n",
       "      <th>zip_code</th>\n",
       "      <th>house_size</th>\n",
       "      <th>sold_date</th>\n",
       "    </tr>\n",
       "  </thead>\n",
       "  <tbody>\n",
       "    <tr>\n",
       "      <th>0</th>\n",
       "      <td>for_sale</td>\n",
       "      <td>105000.0</td>\n",
       "      <td>3.0</td>\n",
       "      <td>2.0</td>\n",
       "      <td>0.12</td>\n",
       "      <td>Sector Yahuecas Titulo # V84, Adjuntas, PR, 00601</td>\n",
       "      <td>Sector Yahuecas Titulo # V84</td>\n",
       "      <td>Adjuntas</td>\n",
       "      <td>Puerto Rico</td>\n",
       "      <td>601.0</td>\n",
       "      <td>920.0</td>\n",
       "      <td>NaN</td>\n",
       "    </tr>\n",
       "    <tr>\n",
       "      <th>1</th>\n",
       "      <td>for_sale</td>\n",
       "      <td>80000.0</td>\n",
       "      <td>4.0</td>\n",
       "      <td>2.0</td>\n",
       "      <td>0.08</td>\n",
       "      <td>Km 78 9 Carr # 135, Adjuntas, PR, 00601</td>\n",
       "      <td>Km 78 9 Carr # 135</td>\n",
       "      <td>Adjuntas</td>\n",
       "      <td>Puerto Rico</td>\n",
       "      <td>601.0</td>\n",
       "      <td>1527.0</td>\n",
       "      <td>NaN</td>\n",
       "    </tr>\n",
       "    <tr>\n",
       "      <th>2</th>\n",
       "      <td>for_sale</td>\n",
       "      <td>67000.0</td>\n",
       "      <td>2.0</td>\n",
       "      <td>1.0</td>\n",
       "      <td>0.15</td>\n",
       "      <td>556G 556-G 16 St, Juana Diaz, PR, 00795</td>\n",
       "      <td>556G 556-G 16 St</td>\n",
       "      <td>Juana Diaz</td>\n",
       "      <td>Puerto Rico</td>\n",
       "      <td>795.0</td>\n",
       "      <td>748.0</td>\n",
       "      <td>NaN</td>\n",
       "    </tr>\n",
       "    <tr>\n",
       "      <th>3</th>\n",
       "      <td>for_sale</td>\n",
       "      <td>145000.0</td>\n",
       "      <td>4.0</td>\n",
       "      <td>2.0</td>\n",
       "      <td>0.10</td>\n",
       "      <td>R5 Comunidad El Paraso Calle De Oro R-5 Ponce,...</td>\n",
       "      <td>R5 Comunidad El Paraso Calle De Oro R-5 Ponce</td>\n",
       "      <td>Ponce</td>\n",
       "      <td>Puerto Rico</td>\n",
       "      <td>731.0</td>\n",
       "      <td>1800.0</td>\n",
       "      <td>NaN</td>\n",
       "    </tr>\n",
       "    <tr>\n",
       "      <th>4</th>\n",
       "      <td>for_sale</td>\n",
       "      <td>65000.0</td>\n",
       "      <td>6.0</td>\n",
       "      <td>2.0</td>\n",
       "      <td>0.05</td>\n",
       "      <td>14 Navarro, Mayaguez, PR, 00680</td>\n",
       "      <td>14 Navarro</td>\n",
       "      <td>Mayaguez</td>\n",
       "      <td>Puerto Rico</td>\n",
       "      <td>680.0</td>\n",
       "      <td>NaN</td>\n",
       "      <td>NaN</td>\n",
       "    </tr>\n",
       "  </tbody>\n",
       "</table>\n",
       "</div>"
      ],
      "text/plain": [
       "     status     price  bed  bath  acre_lot  \\\n",
       "0  for_sale  105000.0  3.0   2.0      0.12   \n",
       "1  for_sale   80000.0  4.0   2.0      0.08   \n",
       "2  for_sale   67000.0  2.0   1.0      0.15   \n",
       "3  for_sale  145000.0  4.0   2.0      0.10   \n",
       "4  for_sale   65000.0  6.0   2.0      0.05   \n",
       "\n",
       "                                        full_address  \\\n",
       "0  Sector Yahuecas Titulo # V84, Adjuntas, PR, 00601   \n",
       "1            Km 78 9 Carr # 135, Adjuntas, PR, 00601   \n",
       "2            556G 556-G 16 St, Juana Diaz, PR, 00795   \n",
       "3  R5 Comunidad El Paraso Calle De Oro R-5 Ponce,...   \n",
       "4                    14 Navarro, Mayaguez, PR, 00680   \n",
       "\n",
       "                                          street        city        state  \\\n",
       "0                   Sector Yahuecas Titulo # V84    Adjuntas  Puerto Rico   \n",
       "1                             Km 78 9 Carr # 135    Adjuntas  Puerto Rico   \n",
       "2                               556G 556-G 16 St  Juana Diaz  Puerto Rico   \n",
       "3  R5 Comunidad El Paraso Calle De Oro R-5 Ponce       Ponce  Puerto Rico   \n",
       "4                                     14 Navarro    Mayaguez  Puerto Rico   \n",
       "\n",
       "   zip_code  house_size sold_date  \n",
       "0     601.0       920.0       NaN  \n",
       "1     601.0      1527.0       NaN  \n",
       "2     795.0       748.0       NaN  \n",
       "3     731.0      1800.0       NaN  \n",
       "4     680.0         NaN       NaN  "
      ]
     },
     "execution_count": 3,
     "metadata": {},
     "output_type": "execute_result"
    }
   ],
   "source": [
    "realtor_data = Path('realtor_data.csv') \n",
    "realtor_data_df = pd.read_csv(realtor_data)\n",
    "\n",
    "realtor_data_df.head()"
   ]
  },
  {
   "cell_type": "code",
   "execution_count": 4,
   "metadata": {},
   "outputs": [
    {
     "data": {
      "text/html": [
       "<div>\n",
       "<style scoped>\n",
       "    .dataframe tbody tr th:only-of-type {\n",
       "        vertical-align: middle;\n",
       "    }\n",
       "\n",
       "    .dataframe tbody tr th {\n",
       "        vertical-align: top;\n",
       "    }\n",
       "\n",
       "    .dataframe thead th {\n",
       "        text-align: right;\n",
       "    }\n",
       "</style>\n",
       "<table border=\"1\" class=\"dataframe\">\n",
       "  <thead>\n",
       "    <tr style=\"text-align: right;\">\n",
       "      <th></th>\n",
       "      <th>status</th>\n",
       "      <th>price</th>\n",
       "      <th>bed</th>\n",
       "      <th>bath</th>\n",
       "      <th>acre_lot</th>\n",
       "      <th>full_address</th>\n",
       "      <th>street</th>\n",
       "      <th>city</th>\n",
       "      <th>state</th>\n",
       "      <th>zip_code</th>\n",
       "      <th>house_size</th>\n",
       "      <th>sold_date</th>\n",
       "    </tr>\n",
       "  </thead>\n",
       "  <tbody>\n",
       "    <tr>\n",
       "      <th>27820</th>\n",
       "      <td>for_sale</td>\n",
       "      <td>225000.0</td>\n",
       "      <td>3.0</td>\n",
       "      <td>1.0</td>\n",
       "      <td>3.93</td>\n",
       "      <td>326 River Rd, Willington, CT, 06279</td>\n",
       "      <td>326 River Rd</td>\n",
       "      <td>Willington</td>\n",
       "      <td>Connecticut</td>\n",
       "      <td>6279.0</td>\n",
       "      <td>1572.0</td>\n",
       "      <td>NaN</td>\n",
       "    </tr>\n",
       "    <tr>\n",
       "      <th>27821</th>\n",
       "      <td>for_sale</td>\n",
       "      <td>579900.0</td>\n",
       "      <td>4.0</td>\n",
       "      <td>3.0</td>\n",
       "      <td>2.34</td>\n",
       "      <td>32 Heather Ln, Coventry, CT, 06238</td>\n",
       "      <td>32 Heather Ln</td>\n",
       "      <td>Coventry</td>\n",
       "      <td>Connecticut</td>\n",
       "      <td>6238.0</td>\n",
       "      <td>3320.0</td>\n",
       "      <td>6/1/2021</td>\n",
       "    </tr>\n",
       "    <tr>\n",
       "      <th>27823</th>\n",
       "      <td>for_sale</td>\n",
       "      <td>65000.0</td>\n",
       "      <td>1.0</td>\n",
       "      <td>1.0</td>\n",
       "      <td>NaN</td>\n",
       "      <td>63 Schofield Rd Apt 34, Willington, CT, 06279</td>\n",
       "      <td>63 Schofield Rd Apt 34</td>\n",
       "      <td>Willington</td>\n",
       "      <td>Connecticut</td>\n",
       "      <td>6279.0</td>\n",
       "      <td>680.0</td>\n",
       "      <td>8/16/2019</td>\n",
       "    </tr>\n",
       "    <tr>\n",
       "      <th>27826</th>\n",
       "      <td>for_sale</td>\n",
       "      <td>215000.0</td>\n",
       "      <td>2.0</td>\n",
       "      <td>1.0</td>\n",
       "      <td>0.91</td>\n",
       "      <td>353 Rye St, East Windsor, CT, 06016</td>\n",
       "      <td>353 Rye St</td>\n",
       "      <td>East Windsor</td>\n",
       "      <td>Connecticut</td>\n",
       "      <td>6016.0</td>\n",
       "      <td>960.0</td>\n",
       "      <td>6/6/2012</td>\n",
       "    </tr>\n",
       "    <tr>\n",
       "      <th>27828</th>\n",
       "      <td>for_sale</td>\n",
       "      <td>144900.0</td>\n",
       "      <td>2.0</td>\n",
       "      <td>1.0</td>\n",
       "      <td>0.36</td>\n",
       "      <td>24 Worcester Rd, Vernon, CT, 06066</td>\n",
       "      <td>24 Worcester Rd</td>\n",
       "      <td>Vernon</td>\n",
       "      <td>Connecticut</td>\n",
       "      <td>6066.0</td>\n",
       "      <td>860.0</td>\n",
       "      <td>9/2/2016</td>\n",
       "    </tr>\n",
       "  </tbody>\n",
       "</table>\n",
       "</div>"
      ],
      "text/plain": [
       "         status     price  bed  bath  acre_lot  \\\n",
       "27820  for_sale  225000.0  3.0   1.0      3.93   \n",
       "27821  for_sale  579900.0  4.0   3.0      2.34   \n",
       "27823  for_sale   65000.0  1.0   1.0       NaN   \n",
       "27826  for_sale  215000.0  2.0   1.0      0.91   \n",
       "27828  for_sale  144900.0  2.0   1.0      0.36   \n",
       "\n",
       "                                        full_address                  street  \\\n",
       "27820            326 River Rd, Willington, CT, 06279            326 River Rd   \n",
       "27821             32 Heather Ln, Coventry, CT, 06238           32 Heather Ln   \n",
       "27823  63 Schofield Rd Apt 34, Willington, CT, 06279  63 Schofield Rd Apt 34   \n",
       "27826            353 Rye St, East Windsor, CT, 06016              353 Rye St   \n",
       "27828             24 Worcester Rd, Vernon, CT, 06066         24 Worcester Rd   \n",
       "\n",
       "               city        state  zip_code  house_size  sold_date  \n",
       "27820    Willington  Connecticut    6279.0      1572.0        NaN  \n",
       "27821      Coventry  Connecticut    6238.0      3320.0   6/1/2021  \n",
       "27823    Willington  Connecticut    6279.0       680.0  8/16/2019  \n",
       "27826  East Windsor  Connecticut    6016.0       960.0   6/6/2012  \n",
       "27828        Vernon  Connecticut    6066.0       860.0   9/2/2016  "
      ]
     },
     "execution_count": 4,
     "metadata": {},
     "output_type": "execute_result"
    }
   ],
   "source": [
    "ct_df = realtor_data_df[realtor_data_df['state'] == 'Connecticut']\n",
    "ct_df.head()"
   ]
  },
  {
   "cell_type": "code",
   "execution_count": 5,
   "metadata": {},
   "outputs": [
    {
     "data": {
      "text/plain": [
       "Index(['status', 'price', 'bed', 'bath', 'acre_lot', 'full_address', 'street',\n",
       "       'city', 'state', 'zip_code', 'house_size', 'sold_date'],\n",
       "      dtype='object')"
      ]
     },
     "execution_count": 5,
     "metadata": {},
     "output_type": "execute_result"
    }
   ],
   "source": [
    "ct_df.columns"
   ]
  },
  {
   "cell_type": "code",
   "execution_count": 6,
   "metadata": {},
   "outputs": [
    {
     "data": {
      "text/html": [
       "<div>\n",
       "<style scoped>\n",
       "    .dataframe tbody tr th:only-of-type {\n",
       "        vertical-align: middle;\n",
       "    }\n",
       "\n",
       "    .dataframe tbody tr th {\n",
       "        vertical-align: top;\n",
       "    }\n",
       "\n",
       "    .dataframe thead th {\n",
       "        text-align: right;\n",
       "    }\n",
       "</style>\n",
       "<table border=\"1\" class=\"dataframe\">\n",
       "  <thead>\n",
       "    <tr style=\"text-align: right;\">\n",
       "      <th></th>\n",
       "      <th>price</th>\n",
       "      <th>bed</th>\n",
       "      <th>bath</th>\n",
       "      <th>acre_lot</th>\n",
       "      <th>house_size</th>\n",
       "      <th>state</th>\n",
       "      <th>city</th>\n",
       "    </tr>\n",
       "  </thead>\n",
       "  <tbody>\n",
       "    <tr>\n",
       "      <th>27820</th>\n",
       "      <td>225000.0</td>\n",
       "      <td>3.0</td>\n",
       "      <td>1.0</td>\n",
       "      <td>3.93</td>\n",
       "      <td>1572.0</td>\n",
       "      <td>Connecticut</td>\n",
       "      <td>Willington</td>\n",
       "    </tr>\n",
       "    <tr>\n",
       "      <th>27821</th>\n",
       "      <td>579900.0</td>\n",
       "      <td>4.0</td>\n",
       "      <td>3.0</td>\n",
       "      <td>2.34</td>\n",
       "      <td>3320.0</td>\n",
       "      <td>Connecticut</td>\n",
       "      <td>Coventry</td>\n",
       "    </tr>\n",
       "    <tr>\n",
       "      <th>27823</th>\n",
       "      <td>65000.0</td>\n",
       "      <td>1.0</td>\n",
       "      <td>1.0</td>\n",
       "      <td>NaN</td>\n",
       "      <td>680.0</td>\n",
       "      <td>Connecticut</td>\n",
       "      <td>Willington</td>\n",
       "    </tr>\n",
       "    <tr>\n",
       "      <th>27826</th>\n",
       "      <td>215000.0</td>\n",
       "      <td>2.0</td>\n",
       "      <td>1.0</td>\n",
       "      <td>0.91</td>\n",
       "      <td>960.0</td>\n",
       "      <td>Connecticut</td>\n",
       "      <td>East Windsor</td>\n",
       "    </tr>\n",
       "    <tr>\n",
       "      <th>27828</th>\n",
       "      <td>144900.0</td>\n",
       "      <td>2.0</td>\n",
       "      <td>1.0</td>\n",
       "      <td>0.36</td>\n",
       "      <td>860.0</td>\n",
       "      <td>Connecticut</td>\n",
       "      <td>Vernon</td>\n",
       "    </tr>\n",
       "  </tbody>\n",
       "</table>\n",
       "</div>"
      ],
      "text/plain": [
       "          price  bed  bath  acre_lot  house_size        state          city\n",
       "27820  225000.0  3.0   1.0      3.93      1572.0  Connecticut    Willington\n",
       "27821  579900.0  4.0   3.0      2.34      3320.0  Connecticut      Coventry\n",
       "27823   65000.0  1.0   1.0       NaN       680.0  Connecticut    Willington\n",
       "27826  215000.0  2.0   1.0      0.91       960.0  Connecticut  East Windsor\n",
       "27828  144900.0  2.0   1.0      0.36       860.0  Connecticut        Vernon"
      ]
     },
     "execution_count": 6,
     "metadata": {},
     "output_type": "execute_result"
    }
   ],
   "source": [
    "q1_ct_df = ct_df[['price', 'bed', 'bath', 'acre_lot', 'house_size', 'state', 'city']]\n",
    "q1_ct_df.head()"
   ]
  },
  {
   "cell_type": "code",
   "execution_count": 7,
   "metadata": {},
   "outputs": [
    {
     "data": {
      "text/html": [
       "<div>\n",
       "<style scoped>\n",
       "    .dataframe tbody tr th:only-of-type {\n",
       "        vertical-align: middle;\n",
       "    }\n",
       "\n",
       "    .dataframe tbody tr th {\n",
       "        vertical-align: top;\n",
       "    }\n",
       "\n",
       "    .dataframe thead th {\n",
       "        text-align: right;\n",
       "    }\n",
       "</style>\n",
       "<table border=\"1\" class=\"dataframe\">\n",
       "  <thead>\n",
       "    <tr style=\"text-align: right;\">\n",
       "      <th></th>\n",
       "      <th>price</th>\n",
       "      <th>bed</th>\n",
       "      <th>bath</th>\n",
       "      <th>acre_lot</th>\n",
       "      <th>house_size</th>\n",
       "      <th>state</th>\n",
       "      <th>city</th>\n",
       "    </tr>\n",
       "  </thead>\n",
       "  <tbody>\n",
       "    <tr>\n",
       "      <th>27820</th>\n",
       "      <td>225000.0</td>\n",
       "      <td>3.0</td>\n",
       "      <td>1.0</td>\n",
       "      <td>3.93</td>\n",
       "      <td>1572.0</td>\n",
       "      <td>Connecticut</td>\n",
       "      <td>Willington</td>\n",
       "    </tr>\n",
       "    <tr>\n",
       "      <th>27821</th>\n",
       "      <td>579900.0</td>\n",
       "      <td>4.0</td>\n",
       "      <td>3.0</td>\n",
       "      <td>2.34</td>\n",
       "      <td>3320.0</td>\n",
       "      <td>Connecticut</td>\n",
       "      <td>Coventry</td>\n",
       "    </tr>\n",
       "    <tr>\n",
       "      <th>27826</th>\n",
       "      <td>215000.0</td>\n",
       "      <td>2.0</td>\n",
       "      <td>1.0</td>\n",
       "      <td>0.91</td>\n",
       "      <td>960.0</td>\n",
       "      <td>Connecticut</td>\n",
       "      <td>East Windsor</td>\n",
       "    </tr>\n",
       "    <tr>\n",
       "      <th>27828</th>\n",
       "      <td>144900.0</td>\n",
       "      <td>2.0</td>\n",
       "      <td>1.0</td>\n",
       "      <td>0.36</td>\n",
       "      <td>860.0</td>\n",
       "      <td>Connecticut</td>\n",
       "      <td>Vernon</td>\n",
       "    </tr>\n",
       "    <tr>\n",
       "      <th>27829</th>\n",
       "      <td>174900.0</td>\n",
       "      <td>3.0</td>\n",
       "      <td>2.0</td>\n",
       "      <td>0.19</td>\n",
       "      <td>1280.0</td>\n",
       "      <td>Connecticut</td>\n",
       "      <td>Manchester</td>\n",
       "    </tr>\n",
       "  </tbody>\n",
       "</table>\n",
       "</div>"
      ],
      "text/plain": [
       "          price  bed  bath  acre_lot  house_size        state          city\n",
       "27820  225000.0  3.0   1.0      3.93      1572.0  Connecticut    Willington\n",
       "27821  579900.0  4.0   3.0      2.34      3320.0  Connecticut      Coventry\n",
       "27826  215000.0  2.0   1.0      0.91       960.0  Connecticut  East Windsor\n",
       "27828  144900.0  2.0   1.0      0.36       860.0  Connecticut        Vernon\n",
       "27829  174900.0  3.0   2.0      0.19      1280.0  Connecticut    Manchester"
      ]
     },
     "execution_count": 7,
     "metadata": {},
     "output_type": "execute_result"
    }
   ],
   "source": [
    "# Drop null values\n",
    "q1_ct_df = q1_ct_df.dropna()\n",
    "q1_ct_df.head()"
   ]
  },
  {
   "cell_type": "code",
   "execution_count": 8,
   "metadata": {},
   "outputs": [],
   "source": [
    "# Funtion that identifies lower quartile, upper quartile, IQR, outliers, and number of outliers\n",
    "# The data frame that q1_df needs to be defined before the function is run\n",
    "# For each state, set q1_df to be a copy of the state DataFrame (i.e. ny_df)\n",
    "q1_df = ct_df\n",
    "\n",
    "# variable is the column title\n",
    "def find_outliers(variable):\n",
    "    \n",
    "    # Creates a list/series from the single column that comes from the variable\n",
    "    feature = q1_df[variable]\n",
    "    \n",
    "    # Define quartile, and set values for lower q, upper q, and IQR\n",
    "    quartiles = feature.quantile([.25,.5,.75])\n",
    "    lowerq = quartiles[.25]\n",
    "    upperq = quartiles[.75]\n",
    "    iqr = upperq-lowerq\n",
    "    \n",
    "    # Creates an empty list for outliers\n",
    "    outliers = []\n",
    "    \n",
    "    # Loops through the data to identify any values that are outliers and adds them to the list\n",
    "    for x in feature:\n",
    "        if (x > (upperq + 1.5*iqr)) | (x < (lowerq - 1.5*iqr)):\n",
    "            outliers.append(x)\n",
    "\n",
    "    # Prints an output that gives the data we're looking for\n",
    "    print(f'{variable.title()}')\n",
    "    print(f'\\tLower Quartile: {lowerq}')\n",
    "    print(f'\\tUpper Quartile: {upperq}')\n",
    "    print(f'\\tOutliers are less than {lowerq - 1.5*iqr}, and greater than {upperq + 1.5*iqr}.')\n",
    "    print(f'\\tThere are {len(outliers)} outliers.')\n"
   ]
  },
  {
   "cell_type": "code",
   "execution_count": 9,
   "metadata": {},
   "outputs": [
    {
     "name": "stdout",
     "output_type": "stream",
     "text": [
      "Price\n",
      "\tLower Quartile: 239000.0\n",
      "\tUpper Quartile: 479900.0\n",
      "\tOutliers are less than -122350.0, and greater than 841250.0.\n",
      "\tThere are 5855 outliers.\n"
     ]
    }
   ],
   "source": [
    "# Identify Price outliers\n",
    "find_outliers('price')"
   ]
  },
  {
   "cell_type": "code",
   "execution_count": 10,
   "metadata": {},
   "outputs": [
    {
     "name": "stdout",
     "output_type": "stream",
     "text": [
      "Bed\n",
      "\tLower Quartile: 3.0\n",
      "\tUpper Quartile: 4.0\n",
      "\tOutliers are less than 1.5, and greater than 5.5.\n",
      "\tThere are 6757 outliers.\n"
     ]
    }
   ],
   "source": [
    "# Identify Bedroom outliers\n",
    "find_outliers('bed')"
   ]
  },
  {
   "cell_type": "code",
   "execution_count": 11,
   "metadata": {},
   "outputs": [
    {
     "name": "stdout",
     "output_type": "stream",
     "text": [
      "Bath\n",
      "\tLower Quartile: 2.0\n",
      "\tUpper Quartile: 3.0\n",
      "\tOutliers are less than 0.5, and greater than 4.5.\n",
      "\tThere are 4337 outliers.\n"
     ]
    }
   ],
   "source": [
    "# Identify Bathroom outliers\n",
    "find_outliers('bath')"
   ]
  },
  {
   "cell_type": "code",
   "execution_count": 12,
   "metadata": {},
   "outputs": [
    {
     "name": "stdout",
     "output_type": "stream",
     "text": [
      "Acre_Lot\n",
      "\tLower Quartile: 0.21\n",
      "\tUpper Quartile: 1.12\n",
      "\tOutliers are less than -1.1550000000000002, and greater than 2.4850000000000003.\n",
      "\tThere are 7671 outliers.\n"
     ]
    }
   ],
   "source": [
    "# Identify Acerage outliers\n",
    "find_outliers('acre_lot')"
   ]
  },
  {
   "cell_type": "code",
   "execution_count": 13,
   "metadata": {},
   "outputs": [
    {
     "name": "stdout",
     "output_type": "stream",
     "text": [
      "House_Size\n",
      "\tLower Quartile: 1306.0\n",
      "\tUpper Quartile: 2591.0\n",
      "\tOutliers are less than -621.5, and greater than 4518.5.\n",
      "\tThere are 2902 outliers.\n"
     ]
    }
   ],
   "source": [
    "# Identify Square Footage outliers\n",
    "find_outliers('house_size')"
   ]
  },
  {
   "cell_type": "code",
   "execution_count": 15,
   "metadata": {},
   "outputs": [
    {
     "data": {
      "text/html": [
       "<div>\n",
       "<style scoped>\n",
       "    .dataframe tbody tr th:only-of-type {\n",
       "        vertical-align: middle;\n",
       "    }\n",
       "\n",
       "    .dataframe tbody tr th {\n",
       "        vertical-align: top;\n",
       "    }\n",
       "\n",
       "    .dataframe thead th {\n",
       "        text-align: right;\n",
       "    }\n",
       "</style>\n",
       "<table border=\"1\" class=\"dataframe\">\n",
       "  <thead>\n",
       "    <tr style=\"text-align: right;\">\n",
       "      <th></th>\n",
       "      <th>price</th>\n",
       "      <th>bed</th>\n",
       "      <th>bath</th>\n",
       "      <th>acre_lot</th>\n",
       "      <th>house_size</th>\n",
       "      <th>state</th>\n",
       "      <th>city</th>\n",
       "    </tr>\n",
       "  </thead>\n",
       "  <tbody>\n",
       "    <tr>\n",
       "      <th>27821</th>\n",
       "      <td>579900.0</td>\n",
       "      <td>4.0</td>\n",
       "      <td>3.0</td>\n",
       "      <td>2.34</td>\n",
       "      <td>3320.0</td>\n",
       "      <td>Connecticut</td>\n",
       "      <td>Coventry</td>\n",
       "    </tr>\n",
       "    <tr>\n",
       "      <th>27826</th>\n",
       "      <td>215000.0</td>\n",
       "      <td>2.0</td>\n",
       "      <td>1.0</td>\n",
       "      <td>0.91</td>\n",
       "      <td>960.0</td>\n",
       "      <td>Connecticut</td>\n",
       "      <td>East Windsor</td>\n",
       "    </tr>\n",
       "    <tr>\n",
       "      <th>27828</th>\n",
       "      <td>144900.0</td>\n",
       "      <td>2.0</td>\n",
       "      <td>1.0</td>\n",
       "      <td>0.36</td>\n",
       "      <td>860.0</td>\n",
       "      <td>Connecticut</td>\n",
       "      <td>Vernon</td>\n",
       "    </tr>\n",
       "    <tr>\n",
       "      <th>27829</th>\n",
       "      <td>174900.0</td>\n",
       "      <td>3.0</td>\n",
       "      <td>2.0</td>\n",
       "      <td>0.19</td>\n",
       "      <td>1280.0</td>\n",
       "      <td>Connecticut</td>\n",
       "      <td>Manchester</td>\n",
       "    </tr>\n",
       "    <tr>\n",
       "      <th>27830</th>\n",
       "      <td>289900.0</td>\n",
       "      <td>4.0</td>\n",
       "      <td>2.0</td>\n",
       "      <td>0.38</td>\n",
       "      <td>1617.0</td>\n",
       "      <td>Connecticut</td>\n",
       "      <td>East Windsor</td>\n",
       "    </tr>\n",
       "    <tr>\n",
       "      <th>...</th>\n",
       "      <td>...</td>\n",
       "      <td>...</td>\n",
       "      <td>...</td>\n",
       "      <td>...</td>\n",
       "      <td>...</td>\n",
       "      <td>...</td>\n",
       "      <td>...</td>\n",
       "    </tr>\n",
       "    <tr>\n",
       "      <th>464226</th>\n",
       "      <td>725000.0</td>\n",
       "      <td>4.0</td>\n",
       "      <td>2.0</td>\n",
       "      <td>1.00</td>\n",
       "      <td>1761.0</td>\n",
       "      <td>Connecticut</td>\n",
       "      <td>Stamford</td>\n",
       "    </tr>\n",
       "    <tr>\n",
       "      <th>464227</th>\n",
       "      <td>1199000.0</td>\n",
       "      <td>4.0</td>\n",
       "      <td>4.0</td>\n",
       "      <td>1.01</td>\n",
       "      <td>3500.0</td>\n",
       "      <td>Connecticut</td>\n",
       "      <td>Stamford</td>\n",
       "    </tr>\n",
       "    <tr>\n",
       "      <th>464229</th>\n",
       "      <td>1199000.0</td>\n",
       "      <td>4.0</td>\n",
       "      <td>4.0</td>\n",
       "      <td>1.05</td>\n",
       "      <td>4370.0</td>\n",
       "      <td>Connecticut</td>\n",
       "      <td>Stamford</td>\n",
       "    </tr>\n",
       "    <tr>\n",
       "      <th>464230</th>\n",
       "      <td>1095000.0</td>\n",
       "      <td>5.0</td>\n",
       "      <td>4.0</td>\n",
       "      <td>1.00</td>\n",
       "      <td>3983.0</td>\n",
       "      <td>Connecticut</td>\n",
       "      <td>Stamford</td>\n",
       "    </tr>\n",
       "    <tr>\n",
       "      <th>464232</th>\n",
       "      <td>1099000.0</td>\n",
       "      <td>4.0</td>\n",
       "      <td>3.0</td>\n",
       "      <td>1.09</td>\n",
       "      <td>2904.0</td>\n",
       "      <td>Connecticut</td>\n",
       "      <td>Stamford</td>\n",
       "    </tr>\n",
       "  </tbody>\n",
       "</table>\n",
       "<p>51456 rows × 7 columns</p>\n",
       "</div>"
      ],
      "text/plain": [
       "            price  bed  bath  acre_lot  house_size        state          city\n",
       "27821    579900.0  4.0   3.0      2.34      3320.0  Connecticut      Coventry\n",
       "27826    215000.0  2.0   1.0      0.91       960.0  Connecticut  East Windsor\n",
       "27828    144900.0  2.0   1.0      0.36       860.0  Connecticut        Vernon\n",
       "27829    174900.0  3.0   2.0      0.19      1280.0  Connecticut    Manchester\n",
       "27830    289900.0  4.0   2.0      0.38      1617.0  Connecticut  East Windsor\n",
       "...           ...  ...   ...       ...         ...          ...           ...\n",
       "464226   725000.0  4.0   2.0      1.00      1761.0  Connecticut      Stamford\n",
       "464227  1199000.0  4.0   4.0      1.01      3500.0  Connecticut      Stamford\n",
       "464229  1199000.0  4.0   4.0      1.05      4370.0  Connecticut      Stamford\n",
       "464230  1095000.0  5.0   4.0      1.00      3983.0  Connecticut      Stamford\n",
       "464232  1099000.0  4.0   3.0      1.09      2904.0  Connecticut      Stamford\n",
       "\n",
       "[51456 rows x 7 columns]"
      ]
     },
     "execution_count": 15,
     "metadata": {},
     "output_type": "execute_result"
    }
   ],
   "source": [
    "q1_ct_df = q1_ct_df[q1_ct_df['bed'] < 5.5]\n",
    "q1_ct_df = q1_ct_df[q1_ct_df['bath'] < 4.5]\n",
    "q1_ct_df = q1_ct_df[q1_ct_df['acre_lot'] < 2.4850000000000003]\n",
    "q1_ct_df = q1_ct_df[q1_ct_df['house_size'] < 4518.5]\n",
    "q1_ct_df\n"
   ]
  },
  {
   "cell_type": "code",
   "execution_count": 16,
   "metadata": {},
   "outputs": [],
   "source": [
    "# Function that will plot linear regression for differnt housing variables\n",
    "housing_corr = {}\n",
    "\n",
    "# x and y axis will be columns from your DataFrames\n",
    "def house_plot(x_axis, y_axis):\n",
    "\n",
    "    # Plots a scatter plot\n",
    "    plt.scatter(x=x_axis, y=y_axis, color='blue')\n",
    "\n",
    "    # Calculates the correlation or r-value between the two variables\n",
    "    corr = round(st.pearsonr(x_axis, y_axis)[0],2)\n",
    "\n",
    "    # Calculates the linear regression\n",
    "    (slope, intercept, rvalue, pvalue, tderr) = linregress(x_axis, y_axis)\n",
    "    regress_values = x_axis * slope + intercept\n",
    "\n",
    "    # writes the linear regresion equation to by displayed on graph\n",
    "    lin_eq = f'y = {str(round(slope,2))}x + {str(round(intercept,2))}'\n",
    "    \n",
    "    # Plots linear Regression line and annotates graph\n",
    "    plt.plot(x_axis,regress_values, color='red')\n",
    "    plt.annotate(lin_eq,((x_axis.max() - .5),100000))\n",
    "    plt.tight_layout()\n",
    "    plt.show()\n",
    "    \n",
    "    # Adds the axis name and r-value to the dictionary defined above\n",
    "    housing_corr[x_axis.name]= corr\n",
    "    \n",
    "    print(f'The r-value is: {rvalue}')"
   ]
  },
  {
   "cell_type": "code",
   "execution_count": 17,
   "metadata": {},
   "outputs": [
    {
     "data": {
      "image/png": "[encoded data removed]",
      "text/plain": [
       "<Figure size 640x480 with 1 Axes>"
      ]
     },
     "metadata": {},
     "output_type": "display_data"
    },
    {
     "name": "stdout",
     "output_type": "stream",
     "text": [
      "The r-value is: 0.2266743361270431\n"
     ]
    }
   ],
   "source": [
    "plt.xlabel('Number of Beds')\n",
    "plt.ylabel('Home Price')\n",
    "plt.title('Number of Bedrooms vs Home Price')\n",
    "house_plot(q1_ct_df['bed'],q1_ct_df['price'])"
   ]
  },
  {
   "cell_type": "code",
   "execution_count": 18,
   "metadata": {},
   "outputs": [
    {
     "data": {
      "image/png": "[encoded data removed]",
      "text/plain": [
       "<Figure size 640x480 with 1 Axes>"
      ]
     },
     "metadata": {},
     "output_type": "display_data"
    },
    {
     "name": "stdout",
     "output_type": "stream",
     "text": [
      "The r-value is: 0.4940370211995968\n"
     ]
    }
   ],
   "source": [
    "plt.xlabel('Number of Bathrooms')\n",
    "plt.ylabel('Home Price')\n",
    "plt.title('Number of Bathrooms vs Home Price')\n",
    "house_plot(q1_ct_df['bath'],q1_ct_df['price'])"
   ]
  },
  {
   "cell_type": "code",
   "execution_count": 19,
   "metadata": {},
   "outputs": [
    {
     "data": {
      "image/png": "[encoded data removed]",
      "text/plain": [
       "<Figure size 640x480 with 1 Axes>"
      ]
     },
     "metadata": {},
     "output_type": "display_data"
    },
    {
     "name": "stdout",
     "output_type": "stream",
     "text": [
      "The r-value is: 0.280850509158051\n"
     ]
    }
   ],
   "source": [
    "plt.xlabel('Lot Size (acres)')\n",
    "plt.ylabel('Home Price')\n",
    "plt.title('Lot Size (Acres) vs Home Price')\n",
    "house_plot(q1_ct_df['acre_lot'],q1_ct_df['price'])"
   ]
  },
  {
   "cell_type": "code",
   "execution_count": 20,
   "metadata": {},
   "outputs": [
    {
     "data": {
      "image/png": "[encoded data removed]",
      "text/plain": [
       "<Figure size 640x480 with 1 Axes>"
      ]
     },
     "metadata": {},
     "output_type": "display_data"
    },
    {
     "name": "stdout",
     "output_type": "stream",
     "text": [
      "The r-value is: 0.5401917977944849\n"
     ]
    }
   ],
   "source": [
    "plt.xlabel('House Size (sq. ft)')\n",
    "plt.ylabel('Home Price')\n",
    "plt.title('House Size (sq. ft) vs Home Price')\n",
    "house_plot(q1_ct_df['house_size'],q1_ct_df['price'])"
   ]
  },
  {
   "cell_type": "code",
   "execution_count": 21,
   "metadata": {},
   "outputs": [
    {
     "name": "stdout",
     "output_type": "stream",
     "text": [
      "The r-value for bed is 0.23\n",
      "The r-value for bath is 0.49\n",
      "The r-value for acre_lot is 0.28\n",
      "The r-value for house_size is 0.54\n"
     ]
    }
   ],
   "source": [
    "for key in housing_corr:\n",
    "    print(f'The r-value for {key} is {housing_corr[key]}')"
   ]
  },
  {
   "cell_type": "code",
   "execution_count": 22,
   "metadata": {},
   "outputs": [
    {
     "data": {
      "text/plain": [
       "{'bed': 0.23, 'bath': 0.49, 'acre_lot': 0.28, 'house_size': 0.54}"
      ]
     },
     "execution_count": 22,
     "metadata": {},
     "output_type": "execute_result"
    }
   ],
   "source": [
    "housing_corr\n"
   ]
  }
 ],
 "metadata": {
  "kernelspec": {
   "display_name": "dev",
   "language": "python",
   "name": "python3"
  },
  "language_info": {
   "codemirror_mode": {
    "name": "ipython",
    "version": 3
   },
   "file_extension": ".py",
   "mimetype": "text/x-python",
   "name": "python",
   "nbconvert_exporter": "python",
   "pygments_lexer": "ipython3",
   "version": "3.10.12"
  },
  "orig_nbformat": 4
 },
 "nbformat": 4,
 "nbformat_minor": 2
}
